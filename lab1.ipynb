{
  "cells": [
    {
      "cell_type": "markdown",
      "metadata": {
        "id": "Q5lzpQrIl2UL"
      },
      "source": [
        "# Lab1 - Scikit-learn\n",
        "Author: *Samuel Sofela*\n",
        "\n",
        "## 1. Introduction\n",
        "\n",
        "The goal of this lab is to become familiar with the scikit-learn library.\n",
        "\n",
        "You will practice loading example datasets, perform classification and regression with linear scikit-learn models, and investigate the effects of reducing the number of features (columns in X) and the number of samples (rows in X and y).\n"
      ]
    },
    {
      "cell_type": "code",
      "execution_count": 1,
      "metadata": {
        "id": "GyDhYsyXl2UM"
      },
      "outputs": [],
      "source": [
        "import numpy as np\n",
        "import pandas as pd\n",
        "import matplotlib.pyplot as plt\n",
        "import seaborn as sns"
      ]
    },
    {
      "cell_type": "markdown",
      "metadata": {
        "id": "oXeOQtGZl2UM"
      },
      "source": [
        "## 2. Classification\n",
        "\n",
        "Using yellowbrick spam - classification  \n",
        "https://www.scikit-yb.org/en/latest/api/datasets/spam.html\n",
        "\n",
        "The goal is to investigate `LogisticRegression(max_iter=2000)` and effects of reducing the number of features and number of samples on classification performance."
      ]
    },
    {
      "cell_type": "markdown",
      "metadata": {
        "id": "6Nvc1EBml2UM"
      },
      "source": [
        "### 2.1 Implement convenience function"
      ]
    },
    {
      "cell_type": "code",
      "execution_count": 19,
      "metadata": {
        "id": "BaOhivSvl2UM"
      },
      "outputs": [],
      "source": [
        "from sklearn.metrics import accuracy_score\n",
        "from sklearn.model_selection import train_test_split\n",
        "\n",
        "def get_classifier_accuracy(model, X, y):\n",
        "    '''Calculate train and validation accuracy of classifier (model)\n",
        "        \n",
        "        Splits feature matrix X and target vector y \n",
        "        with sklearn train_test_split() and random_state=956.\n",
        "        \n",
        "        model (sklearn classifier): Classifier to train and evaluate\n",
        "        X (numpy.array or pandas.DataFrame): Feature matrix\n",
        "        y (numpy.array or pandas.Series): Target vector\n",
        "        \n",
        "        returns: training accuracy, validation accuracy\n",
        "    \n",
        "    '''\n",
        "    # split the data into training set and validation set\n",
        "    X_train, X_test, y_train, y_test = train_test_split(X, y, random_state=956)\n",
        "    \n",
        "    # fit the model using training data\n",
        "    model.fit(X_train, y_train)\n",
        "\n",
        "    # predict the data on training set\n",
        "    y_predicted_training = model.predict(X_train)\n",
        "\n",
        "    # get the training accuracy\n",
        "    training_accuracy = accuracy_score(y_train, y_predicted_training)\n",
        "\n",
        "    # predict the data on validation set\n",
        "    y_predicted_test = model.predict(X_test)\n",
        "    \n",
        "    # get the validation accuracy\n",
        "    test_accuracy = accuracy_score(y_test, y_predicted_test)\n",
        "\n",
        "    return (training_accuracy, test_accuracy)\n",
        "    \n",
        "    #TODO: IMPLEMENT FUNCTION BODY\n",
        "    "
      ]
    },
    {
      "cell_type": "markdown",
      "metadata": {
        "id": "yY1xx51Pl2UN"
      },
      "source": [
        "### 2.2 Load data\n",
        "\n",
        "Use the yellowbrick function `load_spam()`, load the spam data set into feature matrix `X` and target vector `y`.\n",
        "\n",
        "Print size and type of `X` and `y`.\n"
      ]
    },
    {
      "cell_type": "code",
      "execution_count": 12,
      "metadata": {
        "colab": {
          "base_uri": "https://localhost:8080/"
        },
        "id": "RaDaq_kkl2UN",
        "outputId": "3bfca4c3-532c-464c-c485-6efbcc36c724"
      },
      "outputs": [
        {
          "output_type": "stream",
          "name": "stdout",
          "text": [
            "(4600, 57)\n",
            "<class 'pandas.core.frame.DataFrame'>\n",
            "(4600,)\n",
            "<class 'pandas.core.series.Series'>\n",
            "46\n"
          ]
        }
      ],
      "source": [
        "# TODO: ADD YOUR CODE HERE\n",
        "from yellowbrick.datasets.loaders import load_spam\n",
        "X,y = load_spam()\n",
        "print(X.shape)\n",
        "print(type(X))\n",
        "print(y.shape)\n",
        "print(type(y))\n",
        "print(int(len(X)*0.01))"
      ]
    },
    {
      "cell_type": "markdown",
      "metadata": {
        "id": "9s_jb91Al2UN"
      },
      "source": [
        "Using the sklearn function `train_test_split()` prepare a feature matrix `X_small` and target vector `y_small` that contain only **1%** of the rows. Use `random_state=174`.\n",
        "\n",
        "Print size and type of `X_small` and `y_small`."
      ]
    },
    {
      "cell_type": "code",
      "execution_count": 33,
      "metadata": {
        "colab": {
          "base_uri": "https://localhost:8080/"
        },
        "id": "VUgXNQjIl2UO",
        "outputId": "8e68fd87-c5ff-44d3-b4a9-665f451d47cb"
      },
      "outputs": [
        {
          "output_type": "stream",
          "name": "stdout",
          "text": [
            "The side of x_small is:  (46, 57)  and the type is:  <class 'pandas.core.frame.DataFrame'>\n",
            "The side of x_small is:  (46,)  and the type is:  <class 'pandas.core.series.Series'>\n"
          ]
        }
      ],
      "source": [
        "# TODO: ADD YOUR CODE HERE\n",
        "x_small,_, y_small, _ = train_test_split(X, y, train_size=0.01, random_state=174)\n",
        "#x_small = X.head(int(len(X)*0.01))\n",
        "#y_small = y.head(int(len(X)*0.01))\n",
        "#x_small = X[0:int(0.01*len(X)),:]\n",
        "print(\"The side of x_small is: \", x_small.shape, \" and the type is: \", type(x_small))\n",
        "print(\"The side of x_small is: \", y_small.shape, \" and the type is: \", type(y_small))\n",
        "\n",
        "#print(x_small)"
      ]
    },
    {
      "cell_type": "markdown",
      "metadata": {
        "id": "Ck3hhlBZl2UO"
      },
      "source": [
        "### 2.3 Train and evaluate models\n",
        "\n",
        "1. Import `LogisticRegression` from sklearn\n",
        "2. Instantiate model `LogisticRegression(max_iter=2000)`.\n",
        "3. Create a pandas DataFrame `results` with columns: Data size, training accuracy, validation accuracy\n",
        "4. Call your convenience function `get_classifier_accuracy()` using \n",
        "    - `X` and `y`\n",
        "    - Only first two columns of `X` and `y`\n",
        "    - `X_small` and `y_small`\n",
        "5. Add the data size, training and validation accuracy for each call to the `results` DataFrame\n",
        "6. Print `results`"
      ]
    },
    {
      "cell_type": "code",
      "execution_count": 32,
      "metadata": {
        "colab": {
          "base_uri": "https://localhost:8080/"
        },
        "id": "VUVoZBnHl2UO",
        "outputId": "7c35b0f8-aae0-4b7a-e9f7-46514d5f5214"
      },
      "outputs": [
        {
          "output_type": "stream",
          "name": "stdout",
          "text": [
            "    Data size  Training Accuracy  Validation Accuracy\n",
            "0  (4600, 57)           0.934493             0.918261\n",
            "1   (4600, 2)           0.608986             0.613043\n",
            "2    (46, 57)           0.941176             0.750000\n"
          ]
        }
      ],
      "source": [
        "# TODO: ADD YOUR CODE HERE\n",
        "from sklearn.linear_model import LogisticRegression\n",
        "logreg = LogisticRegression(max_iter=2000)\n",
        "\n",
        "results_pd = pd.DataFrame(columns = ['Data size', 'Training Accuracy', 'Validation Accuracy'])\n",
        "\n",
        "train_acc, test_acc = get_classifier_accuracy(logreg, X, y)\n",
        "results_pd.loc[0]=[X.shape, train_acc,test_acc ]\n",
        "\n",
        "x_2col = X.iloc[:,:2]\n",
        "train_acc, test_acc = get_classifier_accuracy(logreg, x_2col, y)\n",
        "results_pd.loc[1]=[x_2col.shape, train_acc,test_acc ]\n",
        "\n",
        "train_acc, test_acc = get_classifier_accuracy(logreg, x_small, y_small)\n",
        "results_pd.loc[2]=[x_small.shape, train_acc,test_acc ]\n",
        "\n",
        "print(results_pd)\n",
        "\n",
        "\n",
        "\n",
        "\n"
      ]
    },
    {
      "cell_type": "markdown",
      "metadata": {
        "id": "LeEvyxrQl2UO"
      },
      "source": [
        "### 2.4 Questions\n",
        "1. What is the validation accuracy using all data? What is the difference between training and validation accuracy?\n",
        "1. How does the validation accuracy and difference between training and validation change when only two columns are used? Provide values.\n",
        "1. How does the validation accuracy and difference between training and validation change when only 1% of the rows are used? Provide values.\n",
        "\n",
        "*YOUR ANSWERS HERE*\n",
        "\n",
        "\n"
      ]
    },
    {
      "cell_type": "markdown",
      "metadata": {
        "id": "hAzUq6NMl2UO"
      },
      "source": [
        "## 3. Regression\n",
        "\n",
        "Using yellowbrick energy - regression  \n",
        "https://www.scikit-yb.org/en/latest/api/datasets/energy.html\n",
        "\n",
        "The goal is to investigate `LinearRegression()` and effects of reducing the number of features and number of samples on regression performance."
      ]
    },
    {
      "cell_type": "markdown",
      "metadata": {
        "id": "xaHmBrSSl2UP"
      },
      "source": [
        "### 3.1 Implement convenience function"
      ]
    },
    {
      "cell_type": "code",
      "execution_count": 39,
      "metadata": {
        "id": "z5N9Hfdll2UP"
      },
      "outputs": [],
      "source": [
        "from sklearn.metrics import mean_squared_error\n",
        "from sklearn.model_selection import train_test_split\n",
        "\n",
        "def get_regressor_mse(model, X, y):\n",
        "    '''Calculate train and validation mean-squared error (mse) of regressor (model)\n",
        "        \n",
        "        Splits feature matrix X and target vector y \n",
        "        with sklearn train_test_split() and random_state=956.\n",
        "        \n",
        "        model (sklearn regressor): Regressor to train and evaluate\n",
        "        X (numpy.array or pandas.DataFrame): Feature matrix\n",
        "        y (numpy.array or pandas.Series): Target vector\n",
        "        \n",
        "        returns: training mse, validation mse\n",
        "    \n",
        "    '''\n",
        "    # split the data into training set and validation set\n",
        "    X_train, X_test, y_train, y_test = train_test_split(X, y, random_state=956)\n",
        "    \n",
        "    # fit the model using training data\n",
        "    model.fit(X_train, y_train)\n",
        "\n",
        "    # predict the data on training set\n",
        "    y_train_predicted = model.predict(X_train)\n",
        "\n",
        "    # get the training mean squared error\n",
        "    mse_training = mean_squared_error(y_train, y_train_predicted)\n",
        "\n",
        "    # predict the data on validation set\n",
        "    y_test_predicted = model.predict(X_test)\n",
        "\n",
        "    # get the validation mean squared error\n",
        "    mse_validation = mean_squared_error(y_test, y_test_predicted)\n",
        "\n",
        "    return (mse_training, mse_validation)\n",
        "    #TODO: IMPLEMENT FUNCTION BODY\n",
        "    "
      ]
    },
    {
      "cell_type": "markdown",
      "metadata": {
        "id": "L3uYNi_4l2UP"
      },
      "source": [
        "### 3.2 Load data\n",
        "\n",
        "Use the yellowbrick function `load_energy()` load the energy data set into feature matrix `X` and target vector `y`.\n",
        "\n",
        "Print dimensions and type of `X` and `y`."
      ]
    },
    {
      "cell_type": "code",
      "execution_count": 34,
      "metadata": {
        "colab": {
          "base_uri": "https://localhost:8080/"
        },
        "id": "3_9dJGhVl2UP",
        "outputId": "2b4761b1-0200-474f-f07f-f6da1b4732f8"
      },
      "outputs": [
        {
          "output_type": "stream",
          "name": "stdout",
          "text": [
            "The side of x is:  (768, 8)  and the type is:  <class 'pandas.core.frame.DataFrame'>\n",
            "The side of x is:  (768,)  and the type is:  <class 'pandas.core.series.Series'>\n"
          ]
        }
      ],
      "source": [
        "# TODO: ADD YOUR CODE HERE\n",
        "from yellowbrick.datasets.loaders import load_energy\n",
        "x,y = load_energy()\n",
        "print(\"The side of x is: \", x.shape, \" and the type is: \", type(x))\n",
        "print(\"The side of x is: \", y.shape, \" and the type is: \", type(y))\n"
      ]
    },
    {
      "cell_type": "markdown",
      "metadata": {
        "id": "Kgqzap7ql2UP"
      },
      "source": [
        "Using the sklearn function `train_test_split()` prepare a feature matrix `X_small` and target vector `y_small` that contain only **1%** of the rows. Use `random_state=174`.\n",
        "\n",
        "Print size and type of `X_small` and `y_small`."
      ]
    },
    {
      "cell_type": "code",
      "execution_count": 36,
      "metadata": {
        "colab": {
          "base_uri": "https://localhost:8080/"
        },
        "id": "9ezYd1VZl2UP",
        "outputId": "5cd52aaa-8905-4063-9abe-6266dc404fa5"
      },
      "outputs": [
        {
          "output_type": "stream",
          "name": "stdout",
          "text": [
            "The side of x_small is:  (7, 8)  and the type is:  <class 'pandas.core.frame.DataFrame'>\n",
            "The side of x_small is:  (7,)  and the type is:  <class 'pandas.core.series.Series'>\n"
          ]
        }
      ],
      "source": [
        "# TODO: ADD YOUR CODE HERE\n",
        "#from sklearn.model_selection import train_test_split\n",
        "x_small,_, y_small, _ = train_test_split(x, y, train_size=0.01, random_state=174)\n",
        "print(\"The side of x_small is: \", x_small.shape, \" and the type is: \", type(x_small))\n",
        "print(\"The side of x_small is: \", y_small.shape, \" and the type is: \", type(y_small))"
      ]
    },
    {
      "cell_type": "markdown",
      "metadata": {
        "id": "klLF62Nol2UP"
      },
      "source": [
        "### 3.3 Train and evaluate models\n",
        "\n",
        "1. Import `LinearRegression` from sklearn\n",
        "2. Instantiate model `LinearRegression()`.\n",
        "3. Create a pandas DataFrame `results` with columns: Data size, training MSE, validation MSE\n",
        "4. Call your convenience function `get_regressor_mse()` using \n",
        "    - `X` and `y`\n",
        "    - Only first two columns of `X` and `y`\n",
        "    - `X_small` and `y_small`\n",
        "5. Add the data size, training and validation MSE for each call to the `results` DataFrame\n",
        "6. Print `results`"
      ]
    },
    {
      "cell_type": "code",
      "execution_count": 41,
      "metadata": {
        "colab": {
          "base_uri": "https://localhost:8080/"
        },
        "id": "JzlJ_tKUl2UP",
        "outputId": "88f731c0-5c40-427c-90db-42249949e53e"
      },
      "outputs": [
        {
          "output_type": "stream",
          "name": "stdout",
          "text": [
            "  Data size  Training Accuracy  Validation Accuracy\n",
            "0  (768, 8)       8.012691e+00            10.366349\n",
            "1  (768, 2)       5.360043e+01            46.410426\n",
            "2    (7, 8)       2.145702e-29            69.977449\n"
          ]
        }
      ],
      "source": [
        "# TODO: ADD YOUR CODE HERE\n",
        "from sklearn.linear_model import LinearRegression\n",
        "linreg = LinearRegression()\n",
        "\n",
        "results_pd1 = pd.DataFrame(columns = ['Data size', 'Training Accuracy', 'Validation Accuracy'])\n",
        "\n",
        "train_acc, test_acc = get_regressor_mse(linreg, x, y)\n",
        "results_pd1.loc[0]=[x.shape, train_acc,test_acc ]\n",
        "\n",
        "x_2col = x.iloc[:,:2]\n",
        "train_acc, test_acc = get_regressor_mse(linreg, x_2col, y)\n",
        "results_pd1.loc[1]=[x_2col.shape, train_acc,test_acc ]\n",
        "\n",
        "train_acc, test_acc = get_regressor_mse(linreg, x_small, y_small)\n",
        "results_pd1.loc[2]=[x_small.shape, train_acc,test_acc ]\n",
        "\n",
        "print(results_pd1)"
      ]
    },
    {
      "cell_type": "markdown",
      "metadata": {
        "id": "OFRkx5ifl2UP"
      },
      "source": [
        "### 3.4 Questions\n",
        "1. What is the validation MSE using all data? What is the difference between training and validation MSE?\n",
        "1. How does the validation MSE and difference between training and validation change when only two columns are used? Provide values.\n",
        "1. How does the validation MSE and difference between training and validation change when only 1% of the rows are used? Provide values.\n",
        "\n",
        "*YOUR ANSWERS HERE*\n",
        "\n"
      ]
    },
    {
      "cell_type": "markdown",
      "metadata": {
        "id": "se5XzVhVl2UQ"
      },
      "source": [
        "## 4. Observations/Interpretation\n",
        "\n",
        "Describe any pattern you see in the results. Relate your findings to what we discussed during lectures. Include data to justify your findings.\n",
        "\n",
        "\n",
        "*ADD YOUR FINDINGS HERE*\n",
        "\n"
      ]
    },
    {
      "cell_type": "markdown",
      "metadata": {
        "id": "dOoC15GZl2UQ"
      },
      "source": [
        "## 5. Reflection\n",
        "Include a sentence or two about:\n",
        "- what you liked or disliked,\n",
        "- found interesting, confusing, challangeing, motivating\n",
        "while working on this assignment.\n",
        "\n",
        "\n",
        "*ADD YOUR THOUGHTS HERE*\n",
        "\n"
      ]
    }
  ],
  "metadata": {
    "kernelspec": {
      "display_name": "Python 3 (ipykernel)",
      "language": "python",
      "name": "python3"
    },
    "language_info": {
      "codemirror_mode": {
        "name": "ipython",
        "version": 3
      },
      "file_extension": ".py",
      "mimetype": "text/x-python",
      "name": "python",
      "nbconvert_exporter": "python",
      "pygments_lexer": "ipython3",
      "version": "3.8.13"
    },
    "colab": {
      "provenance": []
    }
  },
  "nbformat": 4,
  "nbformat_minor": 0
}